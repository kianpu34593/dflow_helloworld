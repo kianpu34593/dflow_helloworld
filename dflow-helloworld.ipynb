{
 "cells": [
  {
   "cell_type": "markdown",
   "id": "dee84207",
   "metadata": {},
   "source": [
    "# Table of Contents\n",
    "- [Installation](#Installation)\n",
    "- [Setup](#Setup)\n",
    "- [Run.py](#Run-py)\n",
    "- [Argo UI](#Argo-UI)"
   ]
  },
  {
   "cell_type": "markdown",
   "id": "c2bc1df5",
   "metadata": {},
   "source": [
    "# <a name=\"Installation\"></a> Installation"
   ]
  },
  {
   "cell_type": "code",
   "execution_count": null,
   "id": "90e17696",
   "metadata": {},
   "outputs": [],
   "source": [
    "from dflow import (\n",
    "    ShellOPTemplate,\n",
    "    InputParameter,\n",
    "    OutputArtifact,\n",
    ")\n",
    "templ = ShellOPTemplate(image=\"alpine\",\n",
    "                        script=\"cat {{inputs.artifacts.inp}} &&\\\n",
    "                                echo {{inputs.parameters.msg}}\\\n",
    "                                > msg.txt\",\n",
    "                        )\n",
    "templ.inputs.parameters[\"msg\"] = InputParameter()\n",
    "templ.inputs.artifacts[\"inp\"] = InputArtifact(path=\"/tmp\")\n",
    "templ.outputs.artifacts[\"out\"] = OutputArtifact(path=\"/tmp/msg.txt\")\n",
    "\n",
    "from dflow import Step\n",
    "step1 = Step(name='Step1',template=templ,\n",
    "            parameters={\n",
    "                \"param\": \"Hello\"\n",
    "            },\n",
    "            artifacts={\n",
    "                \"inp\": step0.outputs.artifacts[\"out\"] \n",
    "            }\n",
    "            )\n"
   ]
  },
  {
   "cell_type": "markdown",
   "id": "bf278315",
   "metadata": {},
   "source": [
    "## Prerequisite "
   ]
  },
  {
   "cell_type": "markdown",
   "id": "05a6466a",
   "metadata": {},
   "source": [
    "**(Skip this step if already installed)**"
   ]
  },
  {
   "cell_type": "markdown",
   "id": "7cdceef6",
   "metadata": {},
   "source": [
    "Before using [dflow](#https://github.com/deepmodeling/dflow), we need to install the following two things:\n",
    "- Docker (Official installation instruction: https://docs.docker.com/desktop/mac/install/)\n",
    "- Minikube (Official installation instruction: https://minikube.sigs.k8s.io/docs/start/)"
   ]
  },
  {
   "cell_type": "markdown",
   "id": "c737fb0f",
   "metadata": {},
   "source": [
    "## Install pydflow"
   ]
  },
  {
   "cell_type": "code",
   "execution_count": 1,
   "id": "81781614",
   "metadata": {
    "scrolled": true
   },
   "outputs": [
    {
     "name": "stdout",
     "output_type": "stream",
     "text": [
      "Collecting pydflow\n",
      "  Downloading pydflow-1.0.17-py3-none-any.whl (55 kB)\n",
      "\u001b[K     |████████████████████████████████| 55 kB 110 kB/s eta 0:00:01\n",
      "\u001b[?25hRequirement already satisfied: six in /Users/kianpu/softwares/miniconda3/envs/dflow-helloworld/lib/python3.9/site-packages (from pydflow) (1.16.0)\n",
      "Collecting urllib3\n",
      "  Using cached urllib3-1.26.9-py2.py3-none-any.whl (138 kB)\n",
      "Collecting argo-workflows==5.0.0\n",
      "  Using cached argo_workflows-5.0.0-py3-none-any.whl (452 kB)\n",
      "Collecting jsonpickle\n",
      "  Using cached jsonpickle-2.2.0-py2.py3-none-any.whl (39 kB)\n",
      "Collecting pyyaml\n",
      "  Downloading PyYAML-6.0-cp39-cp39-macosx_10_9_x86_64.whl (197 kB)\n",
      "\u001b[K     |████████████████████████████████| 197 kB 259 kB/s eta 0:00:01\n",
      "\u001b[?25hRequirement already satisfied: python-dateutil in /Users/kianpu/softwares/miniconda3/envs/dflow-helloworld/lib/python3.9/site-packages (from pydflow) (2.8.2)\n",
      "Collecting kubernetes\n",
      "  Using cached kubernetes-23.6.0-py2.py3-none-any.whl (1.5 MB)\n",
      "Requirement already satisfied: certifi in /Users/kianpu/softwares/miniconda3/envs/dflow-helloworld/lib/python3.9/site-packages (from pydflow) (2022.5.18.1)\n",
      "Collecting minio\n",
      "  Using cached minio-7.1.9-py3-none-any.whl (76 kB)\n",
      "Collecting typeguard\n",
      "  Using cached typeguard-2.13.3-py3-none-any.whl (17 kB)\n",
      "Collecting requests\n",
      "  Using cached requests-2.28.0-py3-none-any.whl (62 kB)\n",
      "Requirement already satisfied: setuptools>=21.0.0 in /Users/kianpu/softwares/miniconda3/envs/dflow-helloworld/lib/python3.9/site-packages (from kubernetes->pydflow) (61.2.0)\n",
      "Collecting websocket-client!=0.40.0,!=0.41.*,!=0.42.*,>=0.32.0\n",
      "  Using cached websocket_client-1.3.2-py3-none-any.whl (54 kB)\n",
      "Collecting requests-oauthlib\n",
      "  Using cached requests_oauthlib-1.3.1-py2.py3-none-any.whl (23 kB)\n",
      "Collecting google-auth>=1.0.1\n",
      "  Using cached google_auth-2.7.0-py2.py3-none-any.whl (160 kB)\n",
      "Collecting cachetools<6.0,>=2.0.0\n",
      "  Using cached cachetools-5.2.0-py3-none-any.whl (9.3 kB)\n",
      "Collecting pyasn1-modules>=0.2.1\n",
      "  Using cached pyasn1_modules-0.2.8-py2.py3-none-any.whl (155 kB)\n",
      "Collecting rsa<5,>=3.1.4\n",
      "  Using cached rsa-4.8-py3-none-any.whl (39 kB)\n",
      "Collecting pyasn1<0.5.0,>=0.4.6\n",
      "  Using cached pyasn1-0.4.8-py2.py3-none-any.whl (77 kB)\n",
      "Collecting idna<4,>=2.5\n",
      "  Using cached idna-3.3-py3-none-any.whl (61 kB)\n",
      "Collecting charset-normalizer~=2.0.0\n",
      "  Using cached charset_normalizer-2.0.12-py3-none-any.whl (39 kB)\n",
      "Collecting oauthlib>=3.0.0\n",
      "  Using cached oauthlib-3.2.0-py3-none-any.whl (151 kB)\n",
      "Installing collected packages: urllib3, pyasn1, idna, charset-normalizer, rsa, requests, pyasn1-modules, oauthlib, cachetools, websocket-client, requests-oauthlib, pyyaml, google-auth, typeguard, minio, kubernetes, jsonpickle, argo-workflows, pydflow\n",
      "Successfully installed argo-workflows-5.0.0 cachetools-5.2.0 charset-normalizer-2.0.12 google-auth-2.7.0 idna-3.3 jsonpickle-2.2.0 kubernetes-23.6.0 minio-7.1.9 oauthlib-3.2.0 pyasn1-0.4.8 pyasn1-modules-0.2.8 pydflow-1.0.17 pyyaml-6.0 requests-2.28.0 requests-oauthlib-1.3.1 rsa-4.8 typeguard-2.13.3 urllib3-1.26.9 websocket-client-1.3.2\n"
     ]
    }
   ],
   "source": [
    "!pip install pydflow"
   ]
  },
  {
   "cell_type": "markdown",
   "id": "a584e93b",
   "metadata": {},
   "source": [
    "**Once installed, restart the jupyter notebook kernel to make the installation to take effect.**"
   ]
  },
  {
   "cell_type": "markdown",
   "id": "8514080e",
   "metadata": {},
   "source": [
    "# <a name=\"Setup\"></a> Setup"
   ]
  },
  {
   "cell_type": "markdown",
   "id": "99e9165f",
   "metadata": {},
   "source": [
    "## Minikube"
   ]
  },
  {
   "cell_type": "markdown",
   "id": "12fad61c",
   "metadata": {},
   "source": [
    "Dflow runs on kubernetes (k8s), so we need to start minikube"
   ]
  },
  {
   "cell_type": "code",
   "execution_count": 4,
   "id": "8199201f",
   "metadata": {},
   "outputs": [
    {
     "name": "stdout",
     "output_type": "stream",
     "text": [
      "😄  minikube v1.25.2 on Darwin 12.3.1 (arm64)\n",
      "✨  Automatically selected the docker driver\n",
      "👍  Starting control plane node minikube in cluster minikube\n",
      "🚜  Pulling base image ...\n",
      "🔥  Creating docker container (CPUs=2, Memory=2048MB) ...\u001b[K\u001b[K\u001b[K\u001b[K\u001b[K\u001b[K\u001b[K\u001b[K\u001b[K\u001b[K\u001b[K\u001b[K\u001b[K\u001b[K\u001b[K\u001b[K\u001b[K\u001b[K\u001b[K\u001b[K\u001b[K\u001b[K\u001b[K\u001b[K\u001b[K\u001b[K\u001b[K\u001b[K\u001b[K\u001b[K\u001b[K\u001b[K\u001b[K\u001b[K\u001b[K\u001b[K\u001b[K\u001b[K\u001b[K\u001b[K\u001b[K\u001b[K\u001b[K\u001b[K\u001b[K\u001b[K\u001b[K\u001b[K\u001b[K\u001b[K\u001b[K\u001b[K\u001b[K\u001b[K\u001b[K\u001b[K\u001b[K\u001b[K\u001b[K\u001b[K\u001b[K\u001b[K\u001b[K\u001b[K\u001b[K\u001b[K\u001b[K\u001b[K\u001b[K\u001b[K\u001b[K\u001b[K\u001b[K\u001b[K\u001b[K\u001b[K\u001b[K\u001b[K\u001b[K\u001b[K\u001b[K\u001b[K\u001b[K\u001b[K\u001b[K\u001b[K\u001b[K\u001b[K\u001b[K\u001b[K\u001b[K\u001b[K\u001b[K\u001b[K\u001b[K\u001b[K\u001b[K\u001b[K\u001b[K\u001b[K\u001b[K\u001b[K\u001b[K\u001b[K\u001b[K\u001b[K\u001b[K\u001b[K\u001b[K\u001b[K\u001b[K\u001b[K\u001b[K\u001b[K\u001b[K\u001b[K\u001b[K\u001b[K\u001b[K\u001b[K\u001b[K\u001b[K\u001b[K\u001b[K\u001b[K\u001b[K\u001b[K\u001b[K\u001b[K\u001b[K\u001b[K\u001b[K\u001b[K\u001b[K\u001b[K\u001b[K\u001b[K\u001b[K\u001b[K\u001b[K\u001b[K\u001b[K\u001b[K\u001b[K\u001b[K\u001b[K\u001b[K\u001b[K\u001b[K\u001b[K\u001b[K\u001b[K\u001b[K\u001b[K\u001b[K\u001b[K\u001b[K\u001b[K\u001b[K\u001b[K\u001b[K\u001b[K\u001b[K\u001b[K\u001b[K\u001b[K\u001b[K\u001b[K\u001b[K\u001b[K\u001b[K\u001b[K\u001b[K\u001b[K\u001b[K\u001b[K\u001b[K\u001b[K\u001b[K\u001b[K\u001b[K\u001b[K\u001b[K\u001b[K\u001b[K\u001b[K\u001b[K\u001b[K\u001b[K\u001b[K\u001b[K\u001b[K\u001b[K\u001b[K\u001b[K\u001b[K\u001b[K\u001b[K\u001b[K\u001b[K\u001b[K\u001b[K\u001b[K\u001b[K\u001b[K\u001b[K\u001b[K\u001b[K\u001b[K\u001b[K\u001b[K\u001b[K\u001b[K\u001b[K\u001b[K\u001b[K\u001b[K\u001b[K\u001b[K\u001b[K\u001b[K\u001b[K\u001b[K\u001b[K\u001b[K\u001b[K\u001b[K\u001b[K\u001b[K\u001b[K\u001b[K\u001b[K\u001b[K\u001b[K\u001b[K\u001b[K\u001b[K\u001b[K\u001b[K\u001b[K\u001b[K\u001b[K\u001b[K\u001b[K\u001b[K\u001b[K\u001b[K\u001b[K\u001b[K\u001b[K\u001b[K\u001b[K\u001b[K\u001b[K\u001b[K\u001b[K\u001b[K\u001b[K\u001b[K\u001b[K\u001b[K\u001b[K\u001b[K\u001b[K\u001b[K\u001b[K\u001b[K\u001b[K\u001b[K\u001b[K\u001b[K\u001b[K\u001b[K\u001b[K\u001b[K\u001b[K\u001b[K\u001b[K\u001b[K\u001b[K\u001b[K\u001b[K\u001b[K\u001b[K\u001b[K\u001b[K\u001b[K\u001b[K\u001b[K\u001b[K\u001b[K\u001b[K\u001b[K\u001b[K\u001b[K\u001b[K\u001b[K\u001b[K\u001b[K\u001b[K\u001b[K\u001b[K\u001b[K\u001b[K\u001b[K\u001b[K\u001b[K\u001b[K\u001b[K\u001b[K\u001b[K\u001b[K\u001b[K\u001b[K\u001b[K\u001b[K\u001b[K\u001b[K\u001b[K\u001b[K\u001b[K\u001b[K\u001b[K\u001b[K\u001b[K\u001b[K\u001b[K\u001b[K\u001b[K\u001b[K\u001b[K\u001b[K\u001b[K\u001b[K\u001b[K\u001b[K\u001b[K\u001b[K\u001b[K\u001b[K\u001b[K\u001b[K\u001b[K\u001b[K\u001b[K\u001b[K\u001b[K\u001b[K\u001b[K\u001b[K\u001b[K\u001b[K\u001b[K\u001b[K\u001b[K\u001b[K\u001b[K\u001b[K\u001b[K\u001b[K\u001b[K\u001b[K\u001b[K\u001b[K\u001b[K\u001b[K\u001b[K\u001b[K\u001b[K\u001b[K\u001b[K\u001b[K\u001b[K\u001b[K\u001b[K\u001b[K\u001b[K\u001b[K\u001b[K\u001b[K\u001b[K\u001b[K\u001b[K\u001b[K\u001b[K\u001b[K\u001b[K\u001b[K\u001b[K\u001b[K\u001b[K\u001b[K\u001b[K\u001b[K\u001b[K\u001b[K\u001b[K\u001b[K\u001b[K\u001b[K\u001b[K\u001b[K\u001b[K\u001b[K\u001b[K\u001b[K\u001b[K\u001b[K\u001b[K\u001b[K\u001b[K\u001b[K\u001b[K\u001b[K\u001b[K\u001b[K\u001b[K\u001b[K\u001b[K\u001b[K\u001b[K\u001b[K\u001b[K\u001b[K\u001b[K\u001b[K\u001b[K\u001b[K\u001b[K\u001b[K\u001b[K\u001b[K\u001b[K\u001b[K\u001b[K\u001b[K\u001b[K\u001b[K\u001b[K\u001b[K\u001b[K\u001b[K\u001b[K\u001b[K\u001b[K\u001b[K\u001b[K\u001b[K\u001b[K\u001b[K\u001b[K\u001b[K\u001b[K\u001b[K\u001b[K\u001b[K\u001b[K\u001b[K\u001b[K\u001b[K\u001b[K\u001b[K\u001b[K\u001b[K\u001b[K\u001b[K\u001b[K\u001b[K\u001b[K\u001b[K\u001b[K\u001b[K\u001b[K\u001b[K\u001b[K\u001b[K\u001b[K\u001b[K\u001b[K\u001b[K\u001b[K\u001b[K\u001b[K\u001b[K\u001b[K\u001b[K\u001b[K\u001b[K\u001b[K\u001b[K\u001b[K\u001b[K\u001b[K\u001b[K\u001b[K\u001b[K\u001b[K\u001b[K\u001b[K\u001b[K\u001b[K\u001b[K\u001b[K\u001b[K\u001b[K\u001b[K\u001b[K\u001b[K\u001b[K\u001b[K\u001b[K\u001b[K\u001b[K\u001b[K\u001b[K\u001b[K\u001b[K\u001b[K\u001b[K\u001b[K\u001b[K\u001b[K\u001b[K\u001b[K\u001b[K\u001b[K\u001b[K\u001b[K\u001b[K\u001b[K\u001b[K\u001b[K\n",
      "🐳  Preparing Kubernetes v1.23.3 on Docker 20.10.12 ...\u001b[K\u001b[K\u001b[K\u001b[K\u001b[K\u001b[K\n",
      "    ▪ kubelet.housekeeping-interval=5m\n",
      "    ▪ Generating certificates and keys ...\u001b[K\u001b[K\u001b[K\u001b[K\u001b[K\u001b[K\u001b[K\u001b[K\u001b[K\u001b[K\u001b[K\u001b[K\u001b[K\u001b[K\u001b[K\u001b[K\u001b[K\u001b[K\u001b[K\u001b[K\u001b[K\u001b[K\u001b[K\u001b[K\u001b[K\u001b[K\u001b[K\u001b[K\n",
      "    ▪ Booting up control plane ...\u001b[K\u001b[K\u001b[K\u001b[K\u001b[K\u001b[K\u001b[K\u001b[K\u001b[K\u001b[K\u001b[K\u001b[K\u001b[K\u001b[K\u001b[K\u001b[K\u001b[K\u001b[K\u001b[K\u001b[K\u001b[K\u001b[K\u001b[K\u001b[K\u001b[K\u001b[K\u001b[K\u001b[K\u001b[K\u001b[K\u001b[K\u001b[K\u001b[K\u001b[K\u001b[K\u001b[K\u001b[K\u001b[K\u001b[K\u001b[K\u001b[K\u001b[K\u001b[K\u001b[K\u001b[K\u001b[K\u001b[K\u001b[K\u001b[K\u001b[K\u001b[K\u001b[K\u001b[K\u001b[K\u001b[K\u001b[K\u001b[K\u001b[K\u001b[K\u001b[K\u001b[K\u001b[K\u001b[K\u001b[K\u001b[K\u001b[K\u001b[K\u001b[K\u001b[K\u001b[K\u001b[K\u001b[K\u001b[K\u001b[K\u001b[K\u001b[K\u001b[K\u001b[K\u001b[K\u001b[K\u001b[K\u001b[K\u001b[K\u001b[K\u001b[K\u001b[K\u001b[K\u001b[K\u001b[K\u001b[K\u001b[K\u001b[K\u001b[K\u001b[K\u001b[K\u001b[K\u001b[K\u001b[K\u001b[K\u001b[K\u001b[K\u001b[K\u001b[K\u001b[K\u001b[K\u001b[K\u001b[K\u001b[K\u001b[K\u001b[K\n",
      "    ▪ Configuring RBAC rules ...\u001b[K\u001b[K\u001b[K\u001b[K\u001b[K\u001b[K\u001b[K\u001b[K\u001b[K\u001b[K\u001b[K\u001b[K\u001b[K\u001b[K\u001b[K\u001b[K\u001b[K\u001b[K\u001b[K\u001b[K\u001b[K\u001b[K\u001b[K\u001b[K\u001b[K\u001b[K\n",
      "🔎  Verifying Kubernetes components...\n",
      "    ▪ Using image gcr.io/k8s-minikube/storage-provisioner:v5\n",
      "🌟  Enabled addons: storage-provisioner, default-storageclass\n",
      "🏄  Done! kubectl is now configured to use \"minikube\" cluster and \"default\" namespace by default\n"
     ]
    }
   ],
   "source": [
    "!minikube start --memory 2048 --cpus 2"
   ]
  },
  {
   "cell_type": "markdown",
   "id": "7f8b3278",
   "metadata": {},
   "source": [
    "## Argo-workflows"
   ]
  },
  {
   "cell_type": "markdown",
   "id": "96608ed1",
   "metadata": {},
   "source": [
    "Dflow is built on [argo-workflow](https://github.com/argoproj/argo-workflows), so we need to setup argo engine in k8s:"
   ]
  },
  {
   "cell_type": "markdown",
   "id": "069ce6db",
   "metadata": {},
   "source": [
    "1. To get started quickly, we can use the quick start manifest which will install Argo Workflows as well as some commonly used components:"
   ]
  },
  {
   "cell_type": "code",
   "execution_count": 28,
   "id": "17768746",
   "metadata": {
    "scrolled": true
   },
   "outputs": [
    {
     "name": "stdout",
     "output_type": "stream",
     "text": [
      "namespace/argo created\n",
      "customresourcedefinition.apiextensions.k8s.io/clusterworkflowtemplates.argoproj.io unchanged\n",
      "customresourcedefinition.apiextensions.k8s.io/cronworkflows.argoproj.io unchanged\n",
      "customresourcedefinition.apiextensions.k8s.io/workfloweventbindings.argoproj.io unchanged\n",
      "customresourcedefinition.apiextensions.k8s.io/workflows.argoproj.io unchanged\n",
      "customresourcedefinition.apiextensions.k8s.io/workflowtaskresults.argoproj.io configured\n",
      "customresourcedefinition.apiextensions.k8s.io/workflowtasksets.argoproj.io unchanged\n",
      "customresourcedefinition.apiextensions.k8s.io/workflowtemplates.argoproj.io unchanged\n",
      "serviceaccount/argo created\n",
      "serviceaccount/argo-server created\n",
      "serviceaccount/github.com created\n",
      "role.rbac.authorization.k8s.io/agent created\n",
      "role.rbac.authorization.k8s.io/argo-role created\n",
      "role.rbac.authorization.k8s.io/argo-server-role created\n",
      "role.rbac.authorization.k8s.io/executor created\n",
      "role.rbac.authorization.k8s.io/pod-manager created\n",
      "role.rbac.authorization.k8s.io/submit-workflow-template created\n",
      "role.rbac.authorization.k8s.io/workflow-manager created\n",
      "clusterrole.rbac.authorization.k8s.io/argo-clusterworkflowtemplate-role unchanged\n",
      "clusterrole.rbac.authorization.k8s.io/argo-server-clusterworkflowtemplate-role unchanged\n",
      "rolebinding.rbac.authorization.k8s.io/agent-default created\n",
      "rolebinding.rbac.authorization.k8s.io/argo-binding created\n",
      "rolebinding.rbac.authorization.k8s.io/argo-server-binding created\n",
      "rolebinding.rbac.authorization.k8s.io/executor-default created\n",
      "rolebinding.rbac.authorization.k8s.io/github.com created\n",
      "rolebinding.rbac.authorization.k8s.io/pod-manager-default created\n",
      "rolebinding.rbac.authorization.k8s.io/workflow-manager-default created\n",
      "clusterrolebinding.rbac.authorization.k8s.io/argo-clusterworkflowtemplate-role-binding unchanged\n",
      "clusterrolebinding.rbac.authorization.k8s.io/argo-server-clusterworkflowtemplate-role-binding unchanged\n",
      "configmap/artifact-repositories created\n",
      "configmap/workflow-controller-configmap created\n",
      "secret/argo-postgres-config created\n",
      "secret/argo-server-sso created\n",
      "secret/argo-workflows-webhook-clients created\n",
      "secret/my-minio-cred created\n",
      "service/argo-server created\n",
      "service/minio created\n",
      "service/postgres created\n",
      "service/workflow-controller-metrics created\n",
      "priorityclass.scheduling.k8s.io/workflow-controller unchanged\n",
      "deployment.apps/argo-server created\n",
      "deployment.apps/minio created\n",
      "deployment.apps/postgres created\n",
      "deployment.apps/workflow-controller created\n"
     ]
    }
   ],
   "source": [
    "!kubectl create ns argo\n",
    "!kubectl apply -n argo -f https://raw.githubusercontent.com/deepmodeling/dflow/master/manifests/quick-start-postgres.yaml"
   ]
  },
  {
   "cell_type": "markdown",
   "id": "69abfb16",
   "metadata": {},
   "source": [
    "2. To monitor the setup progress, we can look at the pod status"
   ]
  },
  {
   "cell_type": "code",
   "execution_count": 32,
   "id": "c1339246",
   "metadata": {},
   "outputs": [
    {
     "name": "stdout",
     "output_type": "stream",
     "text": [
      "NAME                                  READY   STATUS    RESTARTS      AGE\r\n",
      "argo-server-78f47df69f-7mvwm          0/1     Running   2 (37s ago)   56s\r\n",
      "minio-5d6dccd444-f8mwb                1/1     Running   0             56s\r\n",
      "postgres-869f7fbd7f-zzmw9             1/1     Running   0             56s\r\n",
      "workflow-controller-586fdf9f6-fd52d   1/1     Running   1 (41s ago)   56s\r\n"
     ]
    }
   ],
   "source": [
    "!kubectl get pod -n argo"
   ]
  },
  {
   "cell_type": "markdown",
   "id": "a8b953c4",
   "metadata": {},
   "source": [
    "**NOTE!!!!**: This process might take a while, depending on the internet speed. Wait and keep refreshing the above cell. Once the `STATUS` of all pods is `RUNNING`, you can proceed with the next step."
   ]
  },
  {
   "cell_type": "markdown",
   "id": "ecd59f15",
   "metadata": {},
   "source": [
    "**IMPORTANT!!!!**\n",
    "\n",
    "3. Open a port-forward so you can access the UI:\n",
    "\n",
    "    Since we need to keep this UI running, we can run this command in the terminal:\n",
    "    \n",
    "```shell\n",
    "kubectl -n argo port-forward deployment/argo-server 2746:2746 --address 0.0.0.0\n",
    "```"
   ]
  },
  {
   "cell_type": "markdown",
   "id": "eb3089f5",
   "metadata": {},
   "source": [
    "We can access the Argo UI: https://127.0.0.1:2746\n",
    "\n",
    "Security warning will be shown but we can safely ignore it. This is because we haven't add ceritificate to this address. "
   ]
  },
  {
   "cell_type": "markdown",
   "id": "4067c90a",
   "metadata": {},
   "source": [
    "4. Open a port-forward so you can access the artifact repository\n",
    "    \n",
    "    Open another terminal and run this, because you want to keep artifact respository running. Note that you don't need to ingress the artifact repository if you are not downloading or uploading artifact.\n",
    "    \n",
    "```shell\n",
    "kubectl -n argo port-forward deployment/minio 9000:9000 --address 0.0.0.0\n",
    "```"
   ]
  },
  {
   "cell_type": "markdown",
   "id": "c39ba0f6",
   "metadata": {},
   "source": [
    "# <a name=\"Run-py\"></a> Run.py"
   ]
  },
  {
   "cell_type": "markdown",
   "id": "3d98d9ca",
   "metadata": {},
   "source": [
    "In the previous steps, we finished installing and seting up the necessary tools and environments for dflow to run. In this section, we will prepare a simple python script using dflow."
   ]
  },
  {
   "cell_type": "markdown",
   "id": "d04ad065",
   "metadata": {},
   "source": [
    "Imagine, we want to achieve the following workflow:\n",
    "\n",
    "Step 1. \n",
    "1. Echo a string to msg.txt \n",
    "    \n",
    "2. Echo a number and redirect it to results.txt \n",
    "    \n",
    "Step 2.\n",
    "1. Duplicate the content in msg.txt two times and redirect it to a new file\n",
    "    \n",
    "2. Get the value in results.txt and times the number by 2 and redirect it to results.txt"
   ]
  },
  {
   "cell_type": "markdown",
   "id": "3cbde00c",
   "metadata": {},
   "source": [
    "To construct a workflow in dflow, three parts are needed:\n",
    "1. Construct OP templates\n",
    "2. Instantiate the OP template to Step\n",
    "3. Put steps together and submit the workflow"
   ]
  },
  {
   "cell_type": "markdown",
   "id": "46c8409e",
   "metadata": {},
   "source": [
    "## Construct OP template"
   ]
  },
  {
   "cell_type": "markdown",
   "id": "9e13ee1a",
   "metadata": {},
   "source": [
    "As explained in the [readme](https://github.com/dptech-corp/dflow#122--op-template), OP template is the fundamental component in dflow. For this particular workflow above, we need two OP templates:"
   ]
  },
  {
   "cell_type": "markdown",
   "id": "250d34e4",
   "metadata": {},
   "source": [
    "For step 1:"
   ]
  },
  {
   "cell_type": "code",
   "execution_count": 33,
   "id": "bf4691c3",
   "metadata": {},
   "outputs": [],
   "source": [
    "from dflow import ShellOPTemplate\n",
    "step1_templ = ShellOPTemplate(\n",
    "                name=\"Hello\",\n",
    "                image=\"alpine:latest\",\n",
    "                script=\"echo {{inputs.parameters.msg}} > /tmp/msg.txt && echo {{inputs.parameters.number}} > /tmp/results.txt\",\n",
    ")"
   ]
  },
  {
   "cell_type": "markdown",
   "id": "d7c88c1f",
   "metadata": {},
   "source": [
    "This defines the operation to be executed. Next, we need to setup the inputs and outputs for this step."
   ]
  },
  {
   "cell_type": "code",
   "execution_count": 34,
   "id": "abd766ca",
   "metadata": {},
   "outputs": [],
   "source": [
    "from dflow import InputParameter, OutputParameter, OutputArtifact\n",
    "step1_templ.inputs.parameters = {\n",
    "                            \"msg\": InputParameter(),\n",
    "                            \"number\": InputParameter(),\n",
    "}\n",
    "step1_templ.outputs.parameters = {\n",
    "                            \"out_param\": OutputParameter(value_from_path=\"/tmp/results.txt\")\n",
    "}\n",
    "step1_templ.outputs.artifacts = {\n",
    "                            \"out_art\": OutputArtifact(path=\"/tmp/msg.txt\")\n",
    "}"
   ]
  },
  {
   "cell_type": "markdown",
   "id": "f722a986",
   "metadata": {},
   "source": [
    "For step 2: "
   ]
  },
  {
   "cell_type": "code",
   "execution_count": 35,
   "id": "7314a7c9",
   "metadata": {},
   "outputs": [],
   "source": [
    "step2_templ = ShellOPTemplate(\n",
    "                name=\"Duplicate\",\n",
    "                image=\"alpine:latest\",\n",
    "                script=\"cat /tmp/foo.txt /tmp/foo.txt > /tmp/bar.txt && echo $(({{inputs.parameters.number}}*2)) > /tmp/results.txt\",\n",
    ")"
   ]
  },
  {
   "cell_type": "markdown",
   "id": "74140453",
   "metadata": {},
   "source": [
    "This defines the operation to be executed. Notice 2 things:\n",
    "1. We duplicated the content in `/tmp/foo.txt` 2 times, instead of `/tmp/msg.txt` in step 1. This is because OPTemplates are indepednent of each other. To make `/tmp/foo.txt` the same as `/tmp/msg.txt`, we only need to initialize it correctly when instantiating the OP template.\n",
    "2. We redirected the output of the arithmetic operation to `/tmp/results.txt`. This is not the file appeared in step 1."
   ]
  },
  {
   "cell_type": "code",
   "execution_count": 36,
   "id": "4dba8b07",
   "metadata": {},
   "outputs": [],
   "source": [
    "from dflow import InputArtifact\n",
    "step2_templ.inputs.artifacts = {\n",
    "                            \"in_art\":InputArtifact(path=\"/tmp/foo.txt\") \n",
    "}\n",
    "step2_templ.inputs.parameters = {\n",
    "                            \"number\": InputParameter(),\n",
    "}\n",
    "step2_templ.outputs.artifacts = {\n",
    "                            \"out_art\": OutputArtifact(path=\"/tmp/bar.txt\")\n",
    "}\n",
    "step2_templ.outputs.parameters = {\n",
    "                            \"out_param\": OutputParameter(value_from_path=\"/tmp/results.txt\")\n",
    "}"
   ]
  },
  {
   "cell_type": "markdown",
   "id": "b396f8ed",
   "metadata": {},
   "source": [
    "## Instantiate the OP template to Step"
   ]
  },
  {
   "cell_type": "markdown",
   "id": "a35ad3b2",
   "metadata": {},
   "source": [
    "`Step` in the central block for building a workflow. A `Step` is created by instantiating an OP template. When a `Step` is initialized, values of all input parameters and sources of all input artifacts declared in the OP template must be specified."
   ]
  },
  {
   "cell_type": "code",
   "execution_count": 16,
   "id": "0fd9bdf4",
   "metadata": {},
   "outputs": [],
   "source": [
    "from dflow import Step\n",
    "\n",
    "step1 = Step (\n",
    "            name=\"step1\",\n",
    "            template=step1_templ,\n",
    "            parameters={\"msg\":\"HelloWorld!\", \"number\": 1},\n",
    ")\n",
    "step2 = Step(\n",
    "            name=\"step2\",\n",
    "            template=step2_templ,\n",
    "            parameters={\"number\":step1.outputs.parameters[\"out_param\"]},\n",
    "            artifacts={\"in_art\":step1.outputs.artifacts[\"out_art\"]},\n",
    ")"
   ]
  },
  {
   "cell_type": "markdown",
   "id": "83e8aa19",
   "metadata": {},
   "source": [
    "Step 1 takes in two values as parameters: \"HelloWorld!\" and 1. Step 2 takes the values and files from step 1 as the input parameters and artifacts."
   ]
  },
  {
   "cell_type": "markdown",
   "id": "cdcf432e",
   "metadata": {},
   "source": [
    "## Put steps together and submit a workflow"
   ]
  },
  {
   "cell_type": "markdown",
   "id": "88e2c217",
   "metadata": {},
   "source": [
    "We finished building blocks of this workflow. Now we can put them togther"
   ]
  },
  {
   "cell_type": "code",
   "execution_count": 37,
   "id": "c5510220",
   "metadata": {},
   "outputs": [],
   "source": [
    "from dflow import Workflow\n",
    "wf = Workflow(name=\"helloworld\")\n",
    "wf.add(step1)\n",
    "wf.add(step2)"
   ]
  },
  {
   "cell_type": "markdown",
   "id": "6a2aa4bf",
   "metadata": {},
   "source": [
    "This creates a workflow with name \"helloworld\" and adds two steps in series."
   ]
  },
  {
   "cell_type": "markdown",
   "id": "914cb0f4",
   "metadata": {},
   "source": [
    "We can then submit the workflow. One caveat: we will get warning about certificiate verification since we haven't yet added cerificate to the address we specified for the UI. To suppress it, we can run the following "
   ]
  },
  {
   "cell_type": "code",
   "execution_count": 38,
   "id": "d0e0b5dc",
   "metadata": {},
   "outputs": [],
   "source": [
    "import urllib3\n",
    "urllib3.disable_warnings(urllib3.exceptions.InsecureRequestWarning)"
   ]
  },
  {
   "cell_type": "code",
   "execution_count": 39,
   "id": "fea0ef8b",
   "metadata": {},
   "outputs": [
    {
     "name": "stdout",
     "output_type": "stream",
     "text": [
      "Workflow has been submitted (ID: helloworld-kjhkr)\n"
     ]
    },
    {
     "data": {
      "text/plain": [
       "{'metadata': {'name': 'helloworld-kjhkr', 'generateName': 'helloworld-', 'namespace': 'argo', 'uid': '7dfcdfaa-7b51-4ef9-847d-e746679a01f1', 'resourceVersion': '20896', 'generation': 1, 'creationTimestamp': '2022-06-14T10:57:17Z', 'labels': {'workflows.argoproj.io/creator': 'system-serviceaccount-argo-argo-server'}, 'managedFields': [{'manager': 'argo', 'operation': 'Update', 'apiVersion': 'argoproj.io/v1alpha1', 'time': '2022-06-14T10:57:17Z', 'fieldsType': 'FieldsV1', 'fieldsV1': {'f:metadata': {'f:generateName': {}, 'f:labels': {'.': {}, 'f:workflows.argoproj.io/creator': {}}}, 'f:spec': {}, 'f:status': {}}}]}, 'spec': {'templates': [{'name': 'helloworld-steps', 'inputs': {}, 'outputs': {}, 'metadata': {}, 'steps': [[{'name': 'step1', 'template': 'hello', 'arguments': {'parameters': [{'name': 'msg', 'value': 'HelloWorld!'}, {'name': 'number', 'value': '1'}]}, 'continueOn': {}}], [{'name': 'step2', 'template': 'duplicate', 'arguments': {'parameters': [{'name': 'number', 'value': \"{{=steps['step1'].outputs.parameters['out_param']}}\"}], 'artifacts': [{'name': 'in_art', 'path': '/tmp/foo.txt', 'from': '{{steps.step1.outputs.artifacts.out_art}}'}]}, 'continueOn': {}}]]}, {'name': 'hello', 'inputs': {'parameters': [{'name': 'msg'}, {'name': 'number'}]}, 'outputs': {'parameters': [{'name': 'out_param', 'valueFrom': {'path': '/tmp/results.txt'}}], 'artifacts': [{'name': 'out_art', 'path': '/tmp/msg.txt'}]}, 'metadata': {'annotations': {'workflows.argoproj.io/progress': '0/1'}}, 'script': {'name': '', 'image': 'alpine:latest', 'command': ['sh'], 'resources': {}, 'source': 'echo {{inputs.parameters.msg}} > /tmp/msg.txt && echo {{inputs.parameters.number}} > /tmp/results.txt'}}, {'name': 'duplicate', 'inputs': {'parameters': [{'name': 'number'}], 'artifacts': [{'name': 'in_art', 'path': '/tmp/foo.txt'}]}, 'outputs': {'parameters': [{'name': 'out_param', 'valueFrom': {'path': '/tmp/results.txt'}}], 'artifacts': [{'name': 'out_art', 'path': '/tmp/bar.txt'}]}, 'metadata': {'annotations': {'workflows.argoproj.io/progress': '0/1'}}, 'script': {'name': '', 'image': 'alpine:latest', 'command': ['sh'], 'resources': {}, 'source': 'cat /tmp/foo.txt /tmp/foo.txt > /tmp/bar.txt && echo $(({{inputs.parameters.number}}*2)) > /tmp/results.txt'}}], 'entrypoint': 'helloworld-steps', 'arguments': {}, 'serviceAccountName': 'argo'}, 'status': {'startedAt': None, 'finishedAt': None}}"
      ]
     },
     "execution_count": 39,
     "metadata": {},
     "output_type": "execute_result"
    }
   ],
   "source": [
    "wf.submit()"
   ]
  },
  {
   "cell_type": "markdown",
   "id": "39411f8a",
   "metadata": {},
   "source": [
    "Another caveat: if you want to rerun the workflow, you need to start a new workflow by reruning `wf = Workflow(name=\"helloworld\")`"
   ]
  },
  {
   "cell_type": "markdown",
   "id": "fcb86911",
   "metadata": {},
   "source": [
    "# <a name=\"Argo-UI\"></a> Argo UI"
   ]
  },
  {
   "cell_type": "markdown",
   "id": "a892ecb3",
   "metadata": {},
   "source": [
    "After finishing the previous steps, we can access the workflow we just ran on the UI (https://127.0.0.1:2746)\n",
    "\n",
    "We should see the following once loaded."
   ]
  },
  {
   "cell_type": "markdown",
   "id": "6ec5f720",
   "metadata": {},
   "source": [
    "<img src=\"./imgs/argoui_main_page.png\" alt=\"argoUI_mainpage\"/>"
   ]
  },
  {
   "cell_type": "markdown",
   "id": "62a7e833",
   "metadata": {},
   "source": [
    "We can see the workflow we just ran. Left click it then we can see the following."
   ]
  },
  {
   "attachments": {},
   "cell_type": "markdown",
   "id": "21750c04",
   "metadata": {},
   "source": [
    "<img src=\"./imgs/workflow_overview.png\" alt=\"workflow_overview\"/>"
   ]
  },
  {
   "cell_type": "markdown",
   "id": "58ab46bd",
   "metadata": {},
   "source": [
    "This gives us an overview of the workflow. The first node does not do anything. The two following nodes are the steps specified by us. Click on it then we can see more information about each step."
   ]
  },
  {
   "cell_type": "markdown",
   "id": "cebc1374",
   "metadata": {},
   "source": [
    "We can access the input/outputs of step 2. We can see the parameters of the step on the UI. We can download `out_art` by clicking the download buttom. "
   ]
  },
  {
   "cell_type": "markdown",
   "id": "73952d83",
   "metadata": {},
   "source": [
    "<img src=\"./imgs/access_one_node.png\" alt=\"access_one_node\"/>"
   ]
  },
  {
   "cell_type": "markdown",
   "id": "69662a54",
   "metadata": {},
   "source": [
    "After decompressing it, you should see a file named `bar.txt`. (This is also what we specified). Open it, you should see `HelloWorld!\\nHelloWorld!`"
   ]
  }
 ],
 "metadata": {
  "kernelspec": {
   "display_name": "Python 3.9.12 ('dflow-helloworld')",
   "language": "python",
   "name": "python3"
  },
  "language_info": {
   "codemirror_mode": {
    "name": "ipython",
    "version": 3
   },
   "file_extension": ".py",
   "mimetype": "text/x-python",
   "name": "python",
   "nbconvert_exporter": "python",
   "pygments_lexer": "ipython3",
   "version": "3.9.12"
  },
  "vscode": {
   "interpreter": {
    "hash": "ec0c59dfdf1ed76d5e8295d9c4c906f824aa962be26635388ab6f43cd303c510"
   }
  }
 },
 "nbformat": 4,
 "nbformat_minor": 5
}
